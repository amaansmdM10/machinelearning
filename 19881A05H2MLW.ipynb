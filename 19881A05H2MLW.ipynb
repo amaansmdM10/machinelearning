{
 "cells": [
  {
   "cell_type": "code",
   "execution_count": 1,
   "id": "e26020a3",
   "metadata": {},
   "outputs": [
    {
     "name": "stdout",
     "output_type": "stream",
     "text": [
      "19881A05H2 Amaan Smd CSE-C\n"
     ]
    }
   ],
   "source": [
    "print(\"19881A05H2 Amaan Smd CSE-C\")\n",
    "import pandas as ps\n",
    "import numpy as np"
   ]
  },
  {
   "cell_type": "code",
   "execution_count": 2,
   "id": "670292c3",
   "metadata": {},
   "outputs": [
    {
     "name": "stdout",
     "output_type": "stream",
     "text": [
      "_______Answer1_______\n"
     ]
    }
   ],
   "source": [
    "print(\"_______Answer1_______\")"
   ]
  },
  {
   "cell_type": "code",
   "execution_count": 5,
   "id": "4d44de93",
   "metadata": {},
   "outputs": [],
   "source": [
    "dataf=ps.DataFrame({'X':[78,85,96,80,86], 'Y':[84,94,89,83,86],'Z':[86,97,96,72,83]} )"
   ]
  },
  {
   "cell_type": "code",
   "execution_count": 6,
   "id": "3d84e38b",
   "metadata": {},
   "outputs": [
    {
     "name": "stdout",
     "output_type": "stream",
     "text": [
      "    X   Y   Z\n",
      "0  78  84  86\n",
      "1  85  94  97\n",
      "2  96  89  96\n",
      "3  80  83  72\n",
      "4  86  86  83\n"
     ]
    }
   ],
   "source": [
    "print(dataf)"
   ]
  },
  {
   "cell_type": "code",
   "execution_count": 7,
   "id": "95c791c3",
   "metadata": {},
   "outputs": [
    {
     "name": "stdout",
     "output_type": "stream",
     "text": [
      "________Answer 2__________\n"
     ]
    }
   ],
   "source": [
    "print(\"________Answer 2__________\")"
   ]
  },
  {
   "cell_type": "code",
   "execution_count": 8,
   "id": "36f24fcf",
   "metadata": {},
   "outputs": [],
   "source": [
    "datadic=exam_data = {'name': ['Anastasia', 'Dima', 'Katherine', 'James', 'Emily', 'Michael', 'Matthew', 'Laura', 'Kevin', 'Jonas'],\n",
    "'score': [12.5, 9, 16.5, np.nan, 9, 20, 14.5, np.nan, 8, 19],\n",
    "'attempts': [1, 3, 2, 3, 2, 3, 1, 1, 2, 1],\n",
    "'qualify': ['yes', 'no', 'yes', 'no', 'no', 'yes', 'yes', 'no', 'no', 'yes']}"
   ]
  },
  {
   "cell_type": "code",
   "execution_count": 9,
   "id": "7413af97",
   "metadata": {},
   "outputs": [],
   "source": [
    "lab = ['a', 'b', 'c', 'd', 'e', 'f', 'g', 'h', 'i', 'j']"
   ]
  },
  {
   "cell_type": "code",
   "execution_count": 11,
   "id": "0c7f8a5f",
   "metadata": {},
   "outputs": [],
   "source": [
    "dataf2=ps.DataFrame(datadic,index=lab)"
   ]
  },
  {
   "cell_type": "code",
   "execution_count": 12,
   "id": "dc5d7c7e",
   "metadata": {},
   "outputs": [
    {
     "name": "stdout",
     "output_type": "stream",
     "text": [
      "        name  score  attempts qualify\n",
      "a  Anastasia   12.5         1     yes\n",
      "b       Dima    9.0         3      no\n",
      "c  Katherine   16.5         2     yes\n",
      "d      James    NaN         3      no\n",
      "e      Emily    9.0         2      no\n",
      "f    Michael   20.0         3     yes\n",
      "g    Matthew   14.5         1     yes\n",
      "h      Laura    NaN         1      no\n",
      "i      Kevin    8.0         2      no\n",
      "j      Jonas   19.0         1     yes\n"
     ]
    }
   ],
   "source": [
    "print(dataf2)"
   ]
  },
  {
   "cell_type": "code",
   "execution_count": 13,
   "id": "3071f803",
   "metadata": {},
   "outputs": [
    {
     "name": "stdout",
     "output_type": "stream",
     "text": [
      "________Answer 3__________\n"
     ]
    }
   ],
   "source": [
    "print(\"________Answer 3__________\")"
   ]
  },
  {
   "cell_type": "code",
   "execution_count": 14,
   "id": "1857adb8",
   "metadata": {},
   "outputs": [
    {
     "name": "stdout",
     "output_type": "stream",
     "text": [
      "        name  score\n",
      "a  Anastasia   12.5\n",
      "b       Dima    9.0\n",
      "c  Katherine   16.5\n",
      "d      James    NaN\n",
      "e      Emily    9.0\n",
      "f    Michael   20.0\n",
      "g    Matthew   14.5\n",
      "h      Laura    NaN\n",
      "i      Kevin    8.0\n",
      "j      Jonas   19.0\n"
     ]
    }
   ],
   "source": [
    "print(dataf2[['name','score']])"
   ]
  },
  {
   "cell_type": "code",
   "execution_count": 15,
   "id": "7f81ba5e",
   "metadata": {},
   "outputs": [
    {
     "name": "stdout",
     "output_type": "stream",
     "text": [
      "________Answer 4__________\n"
     ]
    }
   ],
   "source": [
    "print(\"________Answer 4__________\")"
   ]
  },
  {
   "cell_type": "code",
   "execution_count": 16,
   "id": "e6fbc7d9",
   "metadata": {},
   "outputs": [],
   "source": [
    "interval=ps.DataFrame({\"X\":[1,2,3,4,5,6]},\n",
    "index=ps.IntervalIndex.from_breaks([1,2,3,4,5,6,7]))"
   ]
  },
  {
   "cell_type": "code",
   "execution_count": 17,
   "id": "7d6cb538",
   "metadata": {},
   "outputs": [
    {
     "name": "stdout",
     "output_type": "stream",
     "text": [
      "        X\n",
      "(1, 2]  1\n",
      "(2, 3]  2\n",
      "(3, 4]  3\n",
      "(4, 5]  4\n",
      "(5, 6]  5\n",
      "(6, 7]  6\n"
     ]
    }
   ],
   "source": [
    "print(interval)"
   ]
  },
  {
   "cell_type": "code",
   "execution_count": 18,
   "id": "d3abe93a",
   "metadata": {},
   "outputs": [
    {
     "name": "stdout",
     "output_type": "stream",
     "text": [
      "IntervalIndex([(1, 2], (2, 3], (3, 4], (4, 5], (5, 6], (6, 7]],\n",
      "              closed='right',\n",
      "              dtype='interval[int64]')\n"
     ]
    }
   ],
   "source": [
    "print(interval.index)"
   ]
  },
  {
   "cell_type": "code",
   "execution_count": 19,
   "id": "f254dff8",
   "metadata": {},
   "outputs": [],
   "source": [
    "interval=ps.DataFrame({\"X\":[1,2,3,4,5,6]},\n",
    "index=ps.IntervalIndex.from_tuples([(1,2),(2,3),(3,4),(4,5),(5,6),(6,7)]))"
   ]
  },
  {
   "cell_type": "code",
   "execution_count": 20,
   "id": "21c8685e",
   "metadata": {},
   "outputs": [
    {
     "name": "stdout",
     "output_type": "stream",
     "text": [
      "        X\n",
      "(1, 2]  1\n",
      "(2, 3]  2\n",
      "(3, 4]  3\n",
      "(4, 5]  4\n",
      "(5, 6]  5\n",
      "(6, 7]  6\n"
     ]
    }
   ],
   "source": [
    "print(interval)"
   ]
  },
  {
   "cell_type": "code",
   "execution_count": 21,
   "id": "7aa37415",
   "metadata": {},
   "outputs": [
    {
     "name": "stdout",
     "output_type": "stream",
     "text": [
      "IntervalIndex([(1, 2], (2, 3], (3, 4], (4, 5], (5, 6], (6, 7]],\n",
      "              closed='right',\n",
      "              dtype='interval[int64]')\n"
     ]
    }
   ],
   "source": [
    "print(interval.index)"
   ]
  },
  {
   "cell_type": "code",
   "execution_count": 22,
   "id": "4a30c493",
   "metadata": {},
   "outputs": [],
   "source": [
    "interval=ps.DataFrame({\"X\":[1,2,3,4,5,6]},\n",
    "index=ps.IntervalIndex.from_arrays([1,2,3,4,5,6],[2,3,4,5,6,7]))"
   ]
  },
  {
   "cell_type": "code",
   "execution_count": 23,
   "id": "b807f16f",
   "metadata": {},
   "outputs": [
    {
     "name": "stdout",
     "output_type": "stream",
     "text": [
      "        X\n",
      "(1, 2]  1\n",
      "(2, 3]  2\n",
      "(3, 4]  3\n",
      "(4, 5]  4\n",
      "(5, 6]  5\n",
      "(6, 7]  6\n",
      "IntervalIndex([(1, 2], (2, 3], (3, 4], (4, 5], (5, 6], (6, 7]],\n",
      "              closed='right',\n",
      "              dtype='interval[int64]')\n"
     ]
    }
   ],
   "source": [
    "print(interval)\n",
    "print(interval.index)"
   ]
  },
  {
   "cell_type": "code",
   "execution_count": 28,
   "id": "295e25e4",
   "metadata": {},
   "outputs": [],
   "source": [
    "data=ps.read_csv('data.csv')"
   ]
  },
  {
   "cell_type": "code",
   "execution_count": 29,
   "id": "1eedb787",
   "metadata": {},
   "outputs": [
    {
     "name": "stdout",
     "output_type": "stream",
     "text": [
      "_________Answer 5__________\n"
     ]
    }
   ],
   "source": [
    "print(\"_________Answer 5__________\")"
   ]
  },
  {
   "cell_type": "code",
   "execution_count": 30,
   "id": "eda0bbb3",
   "metadata": {},
   "outputs": [
    {
     "name": "stdout",
     "output_type": "stream",
     "text": [
      "(5, 6)\n"
     ]
    }
   ],
   "source": [
    "print(data.shape)"
   ]
  },
  {
   "cell_type": "code",
   "execution_count": 31,
   "id": "f11b1d63",
   "metadata": {},
   "outputs": [
    {
     "name": "stdout",
     "output_type": "stream",
     "text": [
      "5 6\n"
     ]
    }
   ],
   "source": [
    "print(data.shape[0],data.shape[1])"
   ]
  },
  {
   "cell_type": "code",
   "execution_count": 32,
   "id": "798342f3",
   "metadata": {},
   "outputs": [
    {
     "name": "stdout",
     "output_type": "stream",
     "text": [
      "columns\n",
      " Index(['Year', 'WHO region', 'Country', 'Beverage Types', 'Display Value',\n",
      "       'Unnamed: 5'],\n",
      "      dtype='object')\n"
     ]
    }
   ],
   "source": [
    "print(\"columns\\n\",data.columns)"
   ]
  },
  {
   "cell_type": "code",
   "execution_count": 33,
   "id": "c34bdd15",
   "metadata": {},
   "outputs": [
    {
     "name": "stdout",
     "output_type": "stream",
     "text": [
      "   Year  WHO region          Country         Beverage Types Display Value  \\\n",
      "0   NaN        1986  Western Pacific               Viet Nam          Wine   \n",
      "1   NaN        1986         Americas                Uruguay         Other   \n",
      "2   NaN        1985           Africa           Cte d'Ivoire          Wine   \n",
      "3   NaN        1986         Americas               Colombia          Beer   \n",
      "4   NaN        1987         Americas  Saint Kitts and Nevis          Beer   \n",
      "\n",
      "   Unnamed: 5  \n",
      "0        0.00  \n",
      "1        0.50  \n",
      "2        1.62  \n",
      "3        4.27  \n",
      "4        1.98  \n"
     ]
    }
   ],
   "source": [
    "print(data)"
   ]
  },
  {
   "cell_type": "code",
   "execution_count": 35,
   "id": "fc56db85",
   "metadata": {},
   "outputs": [
    {
     "name": "stdout",
     "output_type": "stream",
     "text": [
      "________Answer 6______\n"
     ]
    }
   ],
   "source": [
    "print(\"________Answer 6______\")\n",
    "arr1=ps.Series([2, 4, 6, 8, 10])"
   ]
  },
  {
   "cell_type": "code",
   "execution_count": 36,
   "id": "b706b79c",
   "metadata": {},
   "outputs": [],
   "source": [
    "arr2=ps.Series([1, 3, 5, 7, 10] )"
   ]
  },
  {
   "cell_type": "code",
   "execution_count": 37,
   "id": "3f4416de",
   "metadata": {},
   "outputs": [
    {
     "name": "stdout",
     "output_type": "stream",
     "text": [
      "0    False\n",
      "1    False\n",
      "2    False\n",
      "3    False\n",
      "4     True\n",
      "dtype: bool\n"
     ]
    }
   ],
   "source": [
    "print(arr1==arr2)"
   ]
  },
  {
   "cell_type": "code",
   "execution_count": 38,
   "id": "9f08b3aa",
   "metadata": {},
   "outputs": [
    {
     "name": "stdout",
     "output_type": "stream",
     "text": [
      "0     True\n",
      "1     True\n",
      "2     True\n",
      "3     True\n",
      "4    False\n",
      "dtype: bool\n"
     ]
    }
   ],
   "source": [
    "print(arr1>arr2)"
   ]
  },
  {
   "cell_type": "code",
   "execution_count": 39,
   "id": "34b0ddb2",
   "metadata": {},
   "outputs": [
    {
     "name": "stdout",
     "output_type": "stream",
     "text": [
      "0    False\n",
      "1    False\n",
      "2    False\n",
      "3    False\n",
      "4    False\n",
      "dtype: bool\n"
     ]
    }
   ],
   "source": [
    "print(arr1<arr2)"
   ]
  },
  {
   "cell_type": "code",
   "execution_count": 40,
   "id": "e578263c",
   "metadata": {},
   "outputs": [
    {
     "name": "stdout",
     "output_type": "stream",
     "text": [
      "________Answer 7______\n"
     ]
    }
   ],
   "source": [
    "print(\"________Answer 7______\")"
   ]
  },
  {
   "cell_type": "code",
   "execution_count": 41,
   "id": "50539b9e",
   "metadata": {},
   "outputs": [],
   "source": [
    "\n",
    "student1 = ps.DataFrame({\n",
    "        'sid': ['S1', 'S2', 'S3', 'S4', 'S5'],\n",
    "         'name': ['Danniella Fenton', 'Ryder Storey', 'Bryce Jensen', 'Ed Bernal', 'Kwame Morin'], \n",
    "        'marks': [200, 210, 190, 222, 199]})\n",
    "\n",
    "student2 = ps.DataFrame({\n",
    "        'sid': ['S4', 'S5', 'S6', 'S7', 'S8'],\n",
    "        'name': ['Scarlette Fisher', 'Carla Williamson', 'Dante Morse', 'Kaiser William', 'Madeeha Preston'], \n",
    "        'marks': [201, 200, 198, 219, 201]})"
   ]
  },
  {
   "cell_type": "code",
   "execution_count": 42,
   "id": "68c1f7c3",
   "metadata": {},
   "outputs": [],
   "source": [
    "mergeddata=ps.concat([student1,student2])"
   ]
  },
  {
   "cell_type": "code",
   "execution_count": 43,
   "id": "01f0f9f6",
   "metadata": {},
   "outputs": [
    {
     "name": "stdout",
     "output_type": "stream",
     "text": [
      "  sid              name  marks\n",
      "0  S1  Danniella Fenton    200\n",
      "1  S2      Ryder Storey    210\n",
      "2  S3      Bryce Jensen    190\n",
      "3  S4         Ed Bernal    222\n",
      "4  S5       Kwame Morin    199\n",
      "0  S4  Scarlette Fisher    201\n",
      "1  S5  Carla Williamson    200\n",
      "2  S6       Dante Morse    198\n",
      "3  S7    Kaiser William    219\n",
      "4  S8   Madeeha Preston    201\n"
     ]
    }
   ],
   "source": [
    "print(mergeddata)"
   ]
  },
  {
   "cell_type": "code",
   "execution_count": 44,
   "id": "4bbf14e2",
   "metadata": {},
   "outputs": [
    {
     "name": "stdout",
     "output_type": "stream",
     "text": [
      "________Answer 8_________\n"
     ]
    }
   ],
   "source": [
    "print(\"________Answer 8_________\")"
   ]
  },
  {
   "cell_type": "code",
   "execution_count": 45,
   "id": "80569fde",
   "metadata": {},
   "outputs": [],
   "source": [
    "l=[1,2,3,4,5]\n",
    "nplist=np.array(l)"
   ]
  },
  {
   "cell_type": "code",
   "execution_count": 46,
   "id": "bb9398a8",
   "metadata": {},
   "outputs": [
    {
     "name": "stdout",
     "output_type": "stream",
     "text": [
      "[1, 2, 3, 4, 5] [1 2 3 4 5]\n"
     ]
    }
   ],
   "source": [
    "print(l,nplist)"
   ]
  },
  {
   "cell_type": "code",
   "execution_count": 47,
   "id": "7bb1ca89",
   "metadata": {},
   "outputs": [
    {
     "name": "stdout",
     "output_type": "stream",
     "text": [
      "________Answer 9_________\n"
     ]
    }
   ],
   "source": [
    "print(\"________Answer 9_________\")"
   ]
  },
  {
   "cell_type": "code",
   "execution_count": 48,
   "id": "4252b7fb",
   "metadata": {},
   "outputs": [],
   "source": [
    "rang=np.arange(2,11).reshape(3,3)"
   ]
  },
  {
   "cell_type": "code",
   "execution_count": 49,
   "id": "5fcf37af",
   "metadata": {},
   "outputs": [
    {
     "name": "stdout",
     "output_type": "stream",
     "text": [
      "[[ 2  3  4]\n",
      " [ 5  6  7]\n",
      " [ 8  9 10]]\n"
     ]
    }
   ],
   "source": [
    "print(rang)"
   ]
  },
  {
   "cell_type": "code",
   "execution_count": 50,
   "id": "36331167",
   "metadata": {},
   "outputs": [
    {
     "name": "stdout",
     "output_type": "stream",
     "text": [
      "________Answer 10_________\n"
     ]
    }
   ],
   "source": [
    "print(\"________Answer 10_________\")"
   ]
  },
  {
   "cell_type": "code",
   "execution_count": 51,
   "id": "dd796bd7",
   "metadata": {},
   "outputs": [],
   "source": [
    "randarray=np.random.random((3,3,3))"
   ]
  },
  {
   "cell_type": "code",
   "execution_count": 52,
   "id": "d4037e84",
   "metadata": {},
   "outputs": [
    {
     "name": "stdout",
     "output_type": "stream",
     "text": [
      "[[[0.52029332 0.36896276 0.43229669]\n",
      "  [0.6548431  0.02325664 0.26175894]\n",
      "  [0.63529623 0.2905097  0.5292741 ]]\n",
      "\n",
      " [[0.36117143 0.24767542 0.95812216]\n",
      "  [0.94433679 0.67911575 0.79591697]\n",
      "  [0.86521253 0.00552247 0.34473563]]\n",
      "\n",
      " [[0.34046223 0.16255902 0.36174328]\n",
      "  [0.66990767 0.16752599 0.98576716]\n",
      "  [0.92333532 0.06499017 0.23987738]]]\n"
     ]
    }
   ],
   "source": [
    "print(randarray)"
   ]
  },
  {
   "cell_type": "code",
   "execution_count": null,
   "id": "f350debd",
   "metadata": {},
   "outputs": [],
   "source": []
  }
 ],
 "metadata": {
  "kernelspec": {
   "display_name": "Python 3",
   "language": "python",
   "name": "python3"
  },
  "language_info": {
   "codemirror_mode": {
    "name": "ipython",
    "version": 3
   },
   "file_extension": ".py",
   "mimetype": "text/x-python",
   "name": "python",
   "nbconvert_exporter": "python",
   "pygments_lexer": "ipython3",
   "version": "3.8.8"
  }
 },
 "nbformat": 4,
 "nbformat_minor": 5
}
